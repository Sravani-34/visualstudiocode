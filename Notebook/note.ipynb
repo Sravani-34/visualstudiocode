{
 "cells": [
  {
   "cell_type": "markdown",
   "metadata": {
    "vscode": {
     "languageId": "plaintext"
    }
   },
   "source": [
    "# write your code here\n",
    "pi=22/7\n",
    "print(type(pi))\n",
    "print('Hi')"
   ]
  }
 ],
 "metadata": {
  "language_info": {
   "name": "python"
  }
 },
 "nbformat": 4,
 "nbformat_minor": 2
}
